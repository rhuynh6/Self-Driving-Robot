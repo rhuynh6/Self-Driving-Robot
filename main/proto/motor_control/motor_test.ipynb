{
 "cells": [
  {
   "cell_type": "code",
   "execution_count": null,
   "metadata": {
    "vscode": {
     "languageId": "plaintext"
    }
   },
   "outputs": [],
   "source": [
    "from pynq.overlays.base import BaseOverlay\n",
    "from pynq.lib.pmod import Pmod_PWM\n",
    "from pynq.lib.pmod import Pmod_IO\n",
    "import time\n",
    "\n",
    "# Load the base overlay\n",
    "base = BaseOverlay(\"base.bit\")\n",
    "\n",
    "# Initialize PWM outputs on PMODB\n",
    "pwm_motor_right = Pmod_PWM(base.PMODB, 3)       # Right wheels PWM\n",
    "pwm_motor_left = Pmod_PWM(base.PMODB, 5)        # Left wheels PWM\n",
    "\n",
    "pwm_motor_right.stop()\n",
    "pwm_motor_left.stop()\n",
    "\n",
    "# Initialize direction control pins on PMODB\n",
    "dir_rfor = Pmod_IO(base.PMODA, 1, 'out')        # Right wheels reverse\n",
    "dir_rrev = Pmod_IO(base.PMODA, 2, 'out')        # Right wheels forward\n",
    "\n",
    "dir_lfor = Pmod_IO(base.PMODA, 5, 'out')        # Left wheels reverse\n",
    "dir_lrev = Pmod_IO(base.PMODA, 6, 'out')       # Left wheels forward\n",
    "\n",
    "# Function to control a motor\n",
    "def control_motor(pwm, direction, speed, forward):\n",
    "\n",
    "    # Set the direction\n",
    "    direction.write(1 if forward else 0)\n",
    "\n",
    "    # Set the PWM duty cycle\n",
    "    pwm.generate(1000, speed)  # 1 kHz PWM frequency\n",
    "\n",
    "# Example to control motors\n",
    "try:\n",
    "    while True:\n",
    "        # Forward rotation for Motor A and B at 50% speed\n",
    "        print(\"Forward at 50% speed\")\n",
    "        control_motor(pwm_motor_right, dir_rfor, 50, True)\n",
    "        control_motor(pwm_motor_left, dir_lfor, 50, True)\n",
    "        time.sleep(3)\n",
    "        \n",
    "        # Stop motors\n",
    "        print(\"Stop\")\n",
    "        control_motor(pwm_motor_right, dir_rfor, 50, False)\n",
    "        control_motor(pwm_motor_left, dir_lfor, 50, False)\n",
    "        time.sleep(2)\n",
    "        \n",
    "        # Reverse rotation for Motor A and B at 70% speed\n",
    "        print(\"Reverse at 70% speed\")\n",
    "        control_motor(pwm_motor_right, dir_rrev, 70, True)\n",
    "        control_motor(pwm_motor_left, dir_lrev, 70, True)\n",
    "        time.sleep(3)\n",
    "        \n",
    "        # Stop motors\n",
    "        print(\"Stop\")\n",
    "        control_motor(pwm_motor_right, dir_rrev, 70, False)\n",
    "        control_motor(pwm_motor_left, dir_lrev, 70, False)\n",
    "        time.sleep(2)\n",
    "\n",
    "except KeyboardInterrupt:\n",
    "    # Stop motors and cleanup on exit\n",
    "    print(\"Stopping motors...\")\n",
    "    pwm_motor_right.stop()\n",
    "    pwm_motor_left.stop()\n"
   ]
  }
 ],
 "metadata": {
  "language_info": {
   "name": "python"
  }
 },
 "nbformat": 4,
 "nbformat_minor": 2
}
