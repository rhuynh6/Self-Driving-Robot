{
 "cells": [
  {
   "cell_type": "code",
   "execution_count": null,
   "metadata": {
    "vscode": {
     "languageId": "plaintext"
    }
   },
   "outputs": [],
   "source": [
    "%matplotlib inline \n",
    "from matplotlib import pyplot as plt\n",
    "\n",
    "import cv2\n",
    "import numpy as np\n",
    "import math\n",
    "import os\n",
    "\n",
    "def detect_edges(frame):\n",
    "    \"\"\"\n",
    "    Detects edges in the input frame using Canny edge detection.\n",
    "\n",
    "    Args:\n",
    "        frame (ndarray): Frame captured from the USB camera.\n",
    "\n",
    "    Returns:\n",
    "        edges (ndarray): Edge-detected frame.\n",
    "    \"\"\"\n",
    "    # Convert the frame to grayscale\n",
    "    gray = cv2.cvtColor(frame, cv2.COLOR_BGR2GRAY)\n",
    "\n",
    "    # Apply Gaussian Blur to reduce noise\n",
    "    blurred = cv2.GaussianBlur(gray, (5, 5), 0)\n",
    "\n",
    "    # Perform Canny edge detection\n",
    "    edges = cv2.Canny(blurred, threshold1=50, threshold2=150)\n",
    "\n",
    "    return edges\n",
    "\n",
    "def calculate_angle(edges):\n",
    "    \"\"\"\n",
    "    Calculates the direction for a car to travel to stay in the center of the detected edges.\n",
    "\n",
    "    Args:\n",
    "        edges (ndarray): Edge-detected frame.\n",
    "\n",
    "    Returns:\n",
    "        angle (float): Angle (in degrees) for the car to travel.\n",
    "    \"\"\"\n",
    "    # Get the dimensions of the frame\n",
    "    height, width = edges.shape\n",
    "\n",
    "    # Find the coordinates of the edge pixels\n",
    "    edge_points = np.column_stack(np.where(edges > 0))\n",
    "\n",
    "    if len(edge_points) == 0:\n",
    "        return None  # No edges detected\n",
    "\n",
    "    # Calculate the centerline of the detected edges\n",
    "    left_edge_x = edge_points[edge_points[:, 1] < width // 2][:, 1]\n",
    "    right_edge_x = edge_points[edge_points[:, 1] >= width // 2][:, 1]\n",
    "\n",
    "    if len(left_edge_x) == 0 or len(right_edge_x) == 0:\n",
    "        return None  # Edges do not span both sides\n",
    "\n",
    "    left_x = np.mean(left_edge_x)\n",
    "    right_x = np.mean(right_edge_x)\n",
    "\n",
    "    # Calculate the target center x-coordinate\n",
    "    center_x = (left_x + right_x) / 2\n",
    "\n",
    "    # Compute the angle to adjust direction (relative to the center of the frame)\n",
    "    offset = center_x - (width / 2)\n",
    "    angle = math.degrees(math.atan2(offset, height))\n",
    "\n",
    "    return angle"
   ]
  }
 ],
 "metadata": {
  "language_info": {
   "name": "python"
  }
 },
 "nbformat": 4,
 "nbformat_minor": 2
}
